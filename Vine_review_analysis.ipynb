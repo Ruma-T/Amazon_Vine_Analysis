{
  "nbformat": 4,
  "nbformat_minor": 0,
  "metadata": {
    "colab": {
      "name": "Vine_review_analysis.ipynb",
      "provenance": [],
      "collapsed_sections": [],
      "authorship_tag": "ABX9TyPwmdbsDEcVsYE/5870lM5t",
      "include_colab_link": true
    },
    "kernelspec": {
      "name": "python3",
      "display_name": "Python 3"
    },
    "language_info": {
      "name": "python"
    }
  },
  "cells": [
    {
      "cell_type": "markdown",
      "metadata": {
        "id": "view-in-github",
        "colab_type": "text"
      },
      "source": [
        "<a href=\"https://colab.research.google.com/github/Ruma-T/Amazon_Vine_Analysis/blob/main/Vine_review_analysis.ipynb\" target=\"_parent\"><img src=\"https://colab.research.google.com/assets/colab-badge.svg\" alt=\"Open In Colab\"/></a>"
      ]
    },
    {
      "cell_type": "code",
      "metadata": {
        "colab": {
          "base_uri": "https://localhost:8080/"
        },
        "id": "rCEjHFFvi12I",
        "outputId": "789e48f0-7077-4e44-ca87-0ce655a2773a"
      },
      "source": [
        "import os\n",
        "# Find the latest version of spark 3.0 from http://www.apache.org/dist/spark/ and enter as the spark version\n",
        "# For example:\n",
        "# spark_version = 'spark-3.0.3'\n",
        "spark_version = 'spark-3.0.3'\n",
        "os.environ['SPARK_VERSION']=spark_version\n",
        "\n",
        "# Install Spark and Java\n",
        "!apt-get update\n",
        "!apt-get install openjdk-11-jdk-headless -qq > /dev/null\n",
        "!wget -q http://www.apache.org/dist/spark/$SPARK_VERSION/$SPARK_VERSION-bin-hadoop2.7.tgz\n",
        "!tar xf $SPARK_VERSION-bin-hadoop2.7.tgz\n",
        "!pip install -q findspark\n",
        "\n",
        "# Set Environment Variables\n",
        "import os\n",
        "os.environ[\"JAVA_HOME\"] = \"/usr/lib/jvm/java-11-openjdk-amd64\"\n",
        "os.environ[\"SPARK_HOME\"] = f\"/content/{spark_version}-bin-hadoop2.7\"\n",
        "\n",
        "# Start a SparkSession\n",
        "import findspark\n",
        "findspark.init()"
      ],
      "execution_count": 1,
      "outputs": [
        {
          "output_type": "stream",
          "name": "stdout",
          "text": [
            "\r0% [Working]\r            \rGet:1 http://security.ubuntu.com/ubuntu bionic-security InRelease [88.7 kB]\n",
            "Get:2 https://cloud.r-project.org/bin/linux/ubuntu bionic-cran40/ InRelease [3,626 B]\n",
            "Ign:3 https://developer.download.nvidia.com/compute/cuda/repos/ubuntu1804/x86_64  InRelease\n",
            "Get:4 http://ppa.launchpad.net/c2d4u.team/c2d4u4.0+/ubuntu bionic InRelease [15.9 kB]\n",
            "Hit:5 http://archive.ubuntu.com/ubuntu bionic InRelease\n",
            "Get:6 http://archive.ubuntu.com/ubuntu bionic-updates InRelease [88.7 kB]\n",
            "Ign:7 https://developer.download.nvidia.com/compute/machine-learning/repos/ubuntu1804/x86_64  InRelease\n",
            "Hit:8 https://developer.download.nvidia.com/compute/cuda/repos/ubuntu1804/x86_64  Release\n",
            "Hit:9 https://developer.download.nvidia.com/compute/machine-learning/repos/ubuntu1804/x86_64  Release\n",
            "Hit:10 http://ppa.launchpad.net/cran/libgit2/ubuntu bionic InRelease\n",
            "Get:11 http://archive.ubuntu.com/ubuntu bionic-backports InRelease [74.6 kB]\n",
            "Get:12 http://ppa.launchpad.net/deadsnakes/ppa/ubuntu bionic InRelease [15.9 kB]\n",
            "Get:13 http://security.ubuntu.com/ubuntu bionic-security/main amd64 Packages [2,365 kB]\n",
            "Hit:14 http://ppa.launchpad.net/graphics-drivers/ppa/ubuntu bionic InRelease\n",
            "Get:15 http://security.ubuntu.com/ubuntu bionic-security/universe amd64 Packages [1,431 kB]\n",
            "Get:16 http://ppa.launchpad.net/c2d4u.team/c2d4u4.0+/ubuntu bionic/main Sources [1,802 kB]\n",
            "Get:19 http://ppa.launchpad.net/c2d4u.team/c2d4u4.0+/ubuntu bionic/main amd64 Packages [922 kB]\n",
            "Get:20 http://archive.ubuntu.com/ubuntu bionic-updates/main amd64 Packages [2,801 kB]\n",
            "Get:21 http://archive.ubuntu.com/ubuntu bionic-updates/universe amd64 Packages [2,210 kB]\n",
            "Get:22 http://ppa.launchpad.net/deadsnakes/ppa/ubuntu bionic/main amd64 Packages [40.8 kB]\n",
            "Fetched 11.9 MB in 5s (2,547 kB/s)\n",
            "Reading package lists... Done\n"
          ]
        }
      ]
    },
    {
      "cell_type": "code",
      "metadata": {
        "colab": {
          "base_uri": "https://localhost:8080/"
        },
        "id": "Fc9CmIzyjR_X",
        "outputId": "e26fb980-fa93-475b-febe-2c59ac2f0d0e"
      },
      "source": [
        "# Download the Postgres driver that will allow Spark to interact with Postgres.\n",
        "!wget https://jdbc.postgresql.org/download/postgresql-42.2.16.jar"
      ],
      "execution_count": 2,
      "outputs": [
        {
          "output_type": "stream",
          "name": "stdout",
          "text": [
            "--2021-10-09 05:40:40--  https://jdbc.postgresql.org/download/postgresql-42.2.16.jar\n",
            "Resolving jdbc.postgresql.org (jdbc.postgresql.org)... 72.32.157.228, 2001:4800:3e1:1::228\n",
            "Connecting to jdbc.postgresql.org (jdbc.postgresql.org)|72.32.157.228|:443... connected.\n",
            "HTTP request sent, awaiting response... 200 OK\n",
            "Length: 1002883 (979K) [application/java-archive]\n",
            "Saving to: ‘postgresql-42.2.16.jar’\n",
            "\n",
            "postgresql-42.2.16. 100%[===================>] 979.38K  5.66MB/s    in 0.2s    \n",
            "\n",
            "2021-10-09 05:40:40 (5.66 MB/s) - ‘postgresql-42.2.16.jar’ saved [1002883/1002883]\n",
            "\n"
          ]
        }
      ]
    },
    {
      "cell_type": "code",
      "metadata": {
        "id": "xArCY_eVjSJi"
      },
      "source": [
        "from pyspark.sql import SparkSession\n",
        "spark = SparkSession.builder.appName(\"M16-Amazon-Challenge\").config(\"spark.driver.extraClassPath\",\"/content/postgresql-42.2.16.jar\").getOrCreate()\n"
      ],
      "execution_count": 3,
      "outputs": []
    },
    {
      "cell_type": "code",
      "metadata": {
        "colab": {
          "base_uri": "https://localhost:8080/"
        },
        "id": "U4BBpXsojSOU",
        "outputId": "5eb6e5ff-383d-4c84-979d-ae50cd08f6ca"
      },
      "source": [
        "from pyspark import SparkFiles\n",
        "url = \"https://s3.amazonaws.com/amazon-reviews-pds/tsv/amazon_reviews_us_Baby_v1_00.tsv.gz\"\n",
        "spark.sparkContext.addFile(url)\n",
        "df = spark.read.option(\"encoding\", \"UTF-8\").csv(SparkFiles.get(\"amazon_reviews_us_Baby_v1_00.tsv.gz\"), sep=\"\\t\", header=True, inferSchema=True)\n",
        "df.show()\n"
      ],
      "execution_count": 4,
      "outputs": [
        {
          "output_type": "stream",
          "name": "stdout",
          "text": [
            "+-----------+-----------+--------------+----------+--------------+--------------------+----------------+-----------+-------------+-----------+----+-----------------+--------------------+--------------------+-----------+\n",
            "|marketplace|customer_id|     review_id|product_id|product_parent|       product_title|product_category|star_rating|helpful_votes|total_votes|vine|verified_purchase|     review_headline|         review_body|review_date|\n",
            "+-----------+-----------+--------------+----------+--------------+--------------------+----------------+-----------+-------------+-----------+----+-----------------+--------------------+--------------------+-----------+\n",
            "|         US|    9970739| R8EWA1OFT84NX|B00GSP5D94|     329991347|Summer Infant Swa...|            Baby|          5|            0|          0|   N|                Y|Great swaddled bl...|Loved these swadd...| 2015-08-31|\n",
            "|         US|   23538442|R2JWY4YRQD4FOP|B00YYDDZGU|     646108902|Pacifier Clip Gir...|            Baby|          5|            0|          0|   N|                N|Too cute and real...|These are adorabl...| 2015-08-31|\n",
            "|         US|    8273344| RL5ESX231LZ0B|B00BUBNZC8|     642922361|Udder Covers - Br...|            Baby|          5|            0|          0|   N|                Y|          Five Stars|          Great gift| 2015-08-31|\n",
            "|         US|   24557753| RRMS9ZWJ2KD08|B00AWLZFTS|     494272733|Gerber Graduates ...|            Baby|          5|            0|          0|   N|                Y|Cute; wash up nic...|These forks are g...| 2015-08-31|\n",
            "|         US|   46263340|R14I3ZG5E6S7YM|B00KM60D3Q|     305813185|Summer Infant Ult...|            Baby|          5|            0|          0|   N|                Y|            Love it!|I wanted somethin...| 2015-08-31|\n",
            "|         US|   24557753|R13EPSFP5DODN5|B00PQMRZG4|     607341708|Summer Infant Kee...|            Baby|          4|            0|          0|   N|                Y|        Rips easily.|Loved with daught...| 2015-08-31|\n",
            "|         US|   33520065| R6RBP4HTE67SY|B005DL5970|     971881542|Natural HE Powder...|            Baby|          5|            0|          0|   N|                Y|Cloth Diaper Dete...|This is a great d...| 2015-08-31|\n",
            "|         US|   20241560|R15B3EU40RSU2W|B00C6D2WL4|      93827401|Dr. Brown's Bottl...|            Baby|          5|            0|          0|   N|                Y|          Five Stars|                good| 2015-08-31|\n",
            "|         US|    9987983| RP4DD53A4ZJA2|B0083973FK|     958629336|Sposie Booster Pa...|            Baby|          5|            0|          0|   N|                Y|          Five Stars|With these my mil...| 2015-08-31|\n",
            "|         US|   52570308|R2C99DJEO4RZ4K|B00RLYG2S2|     147324304|Abiie Beyond Wood...|            Baby|          5|            3|          4|   N|                Y|So far I love thi...|So far I love thi...| 2015-08-31|\n",
            "|         US|    9287389| REV51EW323H8W|B010UX9T5I|     446691106|Lovinglove Baby G...|            Baby|          5|            0|          0|   N|                Y|          Five Stars|           Love them| 2015-08-31|\n",
            "|         US|   32840762|R2GQ3W03WIUZKE|B00VWBY7SC|     271204734|Bugzi Stroller Ho...|            Baby|          5|            0|          0|   N|                Y|Love these hooks ...|Love these hooks ...| 2015-08-31|\n",
            "|         US|    7797182| RTI1YI7K6GE3D|B006ZBPH24|      67911244|Born Free 5 oz. B...|            Baby|          5|            0|          0|   N|                Y|          Five Stars|           very good| 2015-08-31|\n",
            "|         US|   14788115|R3V9C2C0SPSZU6|B00UGV8BEU|     613360092|Baby Bandana Bibs...|            Baby|          5|            0|          0|   N|                Y|            Perfect!|Love these bibs! ...| 2015-08-31|\n",
            "|         US|   37909065|R1LB42XCSSCLV6|B005BIOOYO|     527977399|Flip Stay-Dry Ins...|            Baby|          5|            0|          0|   N|                Y|best inserts for ...|I love these. The...| 2015-08-31|\n",
            "|         US|   15935520|R113NWCW6STTMC|B0071D1AKI|     634188771|Aqueduck The ORIG...|            Baby|          5|            0|          0|   N|                Y|        Very Helpful|This worked exact...| 2015-08-31|\n",
            "|         US|   16308044| RWRN5XK337N41|B00M2F0OYS|     166133791|Motorola Baby Mon...|            Baby|          1|            0|          0|   N|                N|Very Dissapointed...|I am so disappoin...| 2015-08-31|\n",
            "|         US|    8168178| RF4WL3QEP3PVI|B00QCBD5AS|     294351494|Minnie Mouse Delu...|            Baby|          1|            0|          0|   N|                Y|            One Star|Ordered minnie mo...| 2015-08-31|\n",
            "|         US|   23299101|R2DRL5NRODVQ3Z|B00SN6F9NG|       3470998|Rhoost Nail Clipp...|            Baby|          5|            2|          2|   N|                Y|If fits so comfor...|This is an absolu...| 2015-08-31|\n",
            "|         US|   14261025|R3T9B92MDDHKMM|B00J0YTS1E|     488640919|My Natural Owl Mu...|            Baby|          2|            5|          5|   N|                Y|Used to be great....|They changed the ...| 2015-08-31|\n",
            "+-----------+-----------+--------------+----------+--------------+--------------------+----------------+-----------+-------------+-----------+----+-----------------+--------------------+--------------------+-----------+\n",
            "only showing top 20 rows\n",
            "\n"
          ]
        }
      ]
    },
    {
      "cell_type": "code",
      "metadata": {
        "id": "cxmuXrcBjSSM"
      },
      "source": [
        "# Re-creating the vine table\n",
        "vine_df = df.select([\"review_id\", \"star_rating\", \"helpful_votes\", \"total_votes\", \"vine\", \"verified_purchase\"])\n"
      ],
      "execution_count": 5,
      "outputs": []
    },
    {
      "cell_type": "code",
      "metadata": {
        "colab": {
          "base_uri": "https://localhost:8080/"
        },
        "id": "_KymgHvnjSXE",
        "outputId": "84efb4ef-7513-4798-ab9c-faba606ddbc7"
      },
      "source": [
        "# Display vine table\n",
        "vine_df.show()\n"
      ],
      "execution_count": 6,
      "outputs": [
        {
          "output_type": "stream",
          "name": "stdout",
          "text": [
            "+--------------+-----------+-------------+-----------+----+-----------------+\n",
            "|     review_id|star_rating|helpful_votes|total_votes|vine|verified_purchase|\n",
            "+--------------+-----------+-------------+-----------+----+-----------------+\n",
            "| R8EWA1OFT84NX|          5|            0|          0|   N|                Y|\n",
            "|R2JWY4YRQD4FOP|          5|            0|          0|   N|                N|\n",
            "| RL5ESX231LZ0B|          5|            0|          0|   N|                Y|\n",
            "| RRMS9ZWJ2KD08|          5|            0|          0|   N|                Y|\n",
            "|R14I3ZG5E6S7YM|          5|            0|          0|   N|                Y|\n",
            "|R13EPSFP5DODN5|          4|            0|          0|   N|                Y|\n",
            "| R6RBP4HTE67SY|          5|            0|          0|   N|                Y|\n",
            "|R15B3EU40RSU2W|          5|            0|          0|   N|                Y|\n",
            "| RP4DD53A4ZJA2|          5|            0|          0|   N|                Y|\n",
            "|R2C99DJEO4RZ4K|          5|            3|          4|   N|                Y|\n",
            "| REV51EW323H8W|          5|            0|          0|   N|                Y|\n",
            "|R2GQ3W03WIUZKE|          5|            0|          0|   N|                Y|\n",
            "| RTI1YI7K6GE3D|          5|            0|          0|   N|                Y|\n",
            "|R3V9C2C0SPSZU6|          5|            0|          0|   N|                Y|\n",
            "|R1LB42XCSSCLV6|          5|            0|          0|   N|                Y|\n",
            "|R113NWCW6STTMC|          5|            0|          0|   N|                Y|\n",
            "| RWRN5XK337N41|          1|            0|          0|   N|                N|\n",
            "| RF4WL3QEP3PVI|          1|            0|          0|   N|                Y|\n",
            "|R2DRL5NRODVQ3Z|          5|            2|          2|   N|                Y|\n",
            "|R3T9B92MDDHKMM|          2|            5|          5|   N|                Y|\n",
            "+--------------+-----------+-------------+-----------+----+-----------------+\n",
            "only showing top 20 rows\n",
            "\n"
          ]
        }
      ]
    },
    {
      "cell_type": "code",
      "metadata": {
        "id": "oDw4O4qXjScD"
      },
      "source": [
        "# Filter the data and create a new DataFrame or table to retrieve all the rows where the total_votes count is equal to or greater than 20 \n",
        "# to pick reviews that are more likely to be helpful and to avoid having division by zero errors later on.\n",
        "\n",
        "vine_top_reviews = vine_df.filter(vine_df[\"total_votes\"] >= 20)\n"
      ],
      "execution_count": 7,
      "outputs": []
    },
    {
      "cell_type": "code",
      "metadata": {
        "colab": {
          "base_uri": "https://localhost:8080/"
        },
        "id": "EEKsxUTkjSfJ",
        "outputId": "fdf18355-16ca-453b-9311-a8f42946a46f"
      },
      "source": [
        "vine_top_reviews.show()\n"
      ],
      "execution_count": 8,
      "outputs": [
        {
          "output_type": "stream",
          "name": "stdout",
          "text": [
            "+--------------+-----------+-------------+-----------+----+-----------------+\n",
            "|     review_id|star_rating|helpful_votes|total_votes|vine|verified_purchase|\n",
            "+--------------+-----------+-------------+-----------+----+-----------------+\n",
            "| ROI00QN8IS49I|          5|           83|         91|   N|                N|\n",
            "|R13C5INE1RTZP6|          2|           26|         26|   N|                Y|\n",
            "| RXVMMXCL67MZN|          4|          378|        383|   N|                Y|\n",
            "|R33JJQWAUYBKD3|          5|          270|        280|   N|                Y|\n",
            "|R3N0XV9267NOXV|          5|           41|         47|   Y|                N|\n",
            "|R31HQD6YXSQV1W|          3|           40|         48|   N|                Y|\n",
            "|R33LQSF958O6K8|          5|           39|         41|   N|                Y|\n",
            "|R3OIDSQJ84W7J1|          5|           21|         24|   N|                N|\n",
            "|R3UUR313K5VVTL|          1|            1|         24|   N|                Y|\n",
            "| RODE8K12S7148|          5|           41|         45|   N|                Y|\n",
            "|R2QZFYFUKP22SP|          5|           33|         37|   N|                Y|\n",
            "| RFON10GAZKDL3|          3|           16|         20|   N|                Y|\n",
            "|R2UXKAUFMPE0PJ|          1|           29|         29|   N|                N|\n",
            "|R20YYYGIRVB7F1|          1|           32|         41|   N|                N|\n",
            "|R36065K853ACRA|          3|           28|         34|   N|                Y|\n",
            "| RBS6RYHXL83L8|          5|           49|         57|   N|                Y|\n",
            "|R2D5JAVXATJOQB|          4|           45|         48|   N|                Y|\n",
            "|R1SUS9Y51N3QO8|          1|           42|         46|   N|                N|\n",
            "|R3DKDS7674IU4Z|          5|           29|         31|   N|                N|\n",
            "|R3VER1GSR74AHB|          4|           38|         39|   N|                Y|\n",
            "+--------------+-----------+-------------+-----------+----+-----------------+\n",
            "only showing top 20 rows\n",
            "\n"
          ]
        }
      ]
    },
    {
      "cell_type": "code",
      "metadata": {
        "id": "IAZZH2wwk7Ax"
      },
      "source": [
        "# Filter the DataFrame or table created above to create a new DataFrame or table that will\n",
        "# retrieve all the rows where the number of helpful_votes divided by total_votes is equal to or greater than 50%.\n",
        "\n",
        "vine_helpful_votes = vine_top_reviews.filter((vine_top_reviews[\"helpful_votes\"] / vine_top_reviews[\"total_votes\"]) >= 0.5)\n"
      ],
      "execution_count": 14,
      "outputs": []
    },
    {
      "cell_type": "code",
      "metadata": {
        "colab": {
          "base_uri": "https://localhost:8080/"
        },
        "id": "oi7RKsIhjSja",
        "outputId": "50ba48e3-5c80-4ef6-9cf9-12e65e46b3cc"
      },
      "source": [
        "vine_helpful_votes.show()\n"
      ],
      "execution_count": 15,
      "outputs": [
        {
          "output_type": "stream",
          "name": "stdout",
          "text": [
            "+--------------+-----------+-------------+-----------+----+-----------------+\n",
            "|     review_id|star_rating|helpful_votes|total_votes|vine|verified_purchase|\n",
            "+--------------+-----------+-------------+-----------+----+-----------------+\n",
            "| ROI00QN8IS49I|          5|           83|         91|   N|                N|\n",
            "|R13C5INE1RTZP6|          2|           26|         26|   N|                Y|\n",
            "| RXVMMXCL67MZN|          4|          378|        383|   N|                Y|\n",
            "|R33JJQWAUYBKD3|          5|          270|        280|   N|                Y|\n",
            "|R3N0XV9267NOXV|          5|           41|         47|   Y|                N|\n",
            "|R31HQD6YXSQV1W|          3|           40|         48|   N|                Y|\n",
            "|R33LQSF958O6K8|          5|           39|         41|   N|                Y|\n",
            "|R3OIDSQJ84W7J1|          5|           21|         24|   N|                N|\n",
            "| RODE8K12S7148|          5|           41|         45|   N|                Y|\n",
            "|R2QZFYFUKP22SP|          5|           33|         37|   N|                Y|\n",
            "| RFON10GAZKDL3|          3|           16|         20|   N|                Y|\n",
            "|R2UXKAUFMPE0PJ|          1|           29|         29|   N|                N|\n",
            "|R20YYYGIRVB7F1|          1|           32|         41|   N|                N|\n",
            "|R36065K853ACRA|          3|           28|         34|   N|                Y|\n",
            "| RBS6RYHXL83L8|          5|           49|         57|   N|                Y|\n",
            "|R2D5JAVXATJOQB|          4|           45|         48|   N|                Y|\n",
            "|R1SUS9Y51N3QO8|          1|           42|         46|   N|                N|\n",
            "|R3DKDS7674IU4Z|          5|           29|         31|   N|                N|\n",
            "|R3VER1GSR74AHB|          4|           38|         39|   N|                Y|\n",
            "| R4KKILPJRQ2J5|          1|           12|         20|   N|                Y|\n",
            "+--------------+-----------+-------------+-----------+----+-----------------+\n",
            "only showing top 20 rows\n",
            "\n"
          ]
        }
      ]
    },
    {
      "cell_type": "code",
      "metadata": {
        "id": "eJlNt_KJj-iu"
      },
      "source": [
        "# Filter the DataFrame or table created above to create a new DataFrame or table\n",
        "# that retrieves all the rows where a review was written as part of the Vine program (paid), vine == 'Y'.\n",
        "\n",
        "vine_paid = vine_helpful_votes.filter(vine_helpful_votes[\"vine\"] == 'Y')\n"
      ],
      "execution_count": 16,
      "outputs": []
    },
    {
      "cell_type": "code",
      "metadata": {
        "colab": {
          "base_uri": "https://localhost:8080/"
        },
        "id": "HeNWc_HSj-yW",
        "outputId": "65b2ae10-2b52-4c96-adac-07c26e0a12a4"
      },
      "source": [
        "vine_paid.show()\n"
      ],
      "execution_count": 17,
      "outputs": [
        {
          "output_type": "stream",
          "name": "stdout",
          "text": [
            "+--------------+-----------+-------------+-----------+----+-----------------+\n",
            "|     review_id|star_rating|helpful_votes|total_votes|vine|verified_purchase|\n",
            "+--------------+-----------+-------------+-----------+----+-----------------+\n",
            "|R3N0XV9267NOXV|          5|           41|         47|   Y|                N|\n",
            "| RSA6JQ346JZHZ|          5|           55|         64|   Y|                Y|\n",
            "|R1FXF4HRMCLG4C|          5|           69|         84|   Y|                N|\n",
            "| RCTBWC3II42MG|          4|          113|        117|   Y|                N|\n",
            "| RTMQM2CQ1XIZ0|          5|           21|         25|   Y|                N|\n",
            "|R2CBJLCKQ612KU|          4|           27|         35|   Y|                N|\n",
            "|R322QDGO4AV2B5|          5|           55|         65|   Y|                N|\n",
            "| R2S7CXRDGQ6EE|          4|           36|         39|   Y|                N|\n",
            "|R3ECMXK0SGR1VV|          5|           59|         64|   Y|                N|\n",
            "|R3D55CPJ6J6Z78|          4|           15|         20|   Y|                N|\n",
            "|R1Y9OYIUCP3WD2|          4|           20|         20|   Y|                N|\n",
            "| RT8AV0IB2PGHH|          4|          108|        132|   Y|                N|\n",
            "|R2RLHJRJD9B0NX|          3|           44|         47|   Y|                N|\n",
            "| RAPD7IX0LPZ10|          4|           36|         37|   Y|                N|\n",
            "|R37QPCBNR07PPR|          1|           22|         27|   Y|                N|\n",
            "|R3BRFPK8N59XPY|          5|          364|        395|   Y|                N|\n",
            "|R1WE59I775L7L9|          4|           31|         33|   Y|                N|\n",
            "| RO8IGQJV1PKCJ|          5|           78|         84|   Y|                N|\n",
            "| RWZDJT9MQP6A4|          5|           86|         97|   Y|                N|\n",
            "|R2VDXEVKFSJU36|          5|           20|         22|   Y|                N|\n",
            "+--------------+-----------+-------------+-----------+----+-----------------+\n",
            "only showing top 20 rows\n",
            "\n"
          ]
        }
      ]
    },
    {
      "cell_type": "code",
      "metadata": {
        "id": "8X3Deziij-4X"
      },
      "source": [
        "# Filter the DataFrame or table created above to create a new DataFrame or table\n",
        "# that retrieves all the rows where a review was NOT written as part of the Vine program (paid), vine == 'Y'.\n",
        "\n",
        "vine_unpaid = vine_helpful_votes.filter(vine_helpful_votes[\"vine\"] == 'N')\n"
      ],
      "execution_count": 18,
      "outputs": []
    },
    {
      "cell_type": "code",
      "metadata": {
        "colab": {
          "base_uri": "https://localhost:8080/"
        },
        "id": "2CIGf46nj-9J",
        "outputId": "69a278aa-96db-469b-9c19-6a09f8d37685"
      },
      "source": [
        "vine_unpaid.show()\n"
      ],
      "execution_count": 19,
      "outputs": [
        {
          "output_type": "stream",
          "name": "stdout",
          "text": [
            "+--------------+-----------+-------------+-----------+----+-----------------+\n",
            "|     review_id|star_rating|helpful_votes|total_votes|vine|verified_purchase|\n",
            "+--------------+-----------+-------------+-----------+----+-----------------+\n",
            "| ROI00QN8IS49I|          5|           83|         91|   N|                N|\n",
            "|R13C5INE1RTZP6|          2|           26|         26|   N|                Y|\n",
            "| RXVMMXCL67MZN|          4|          378|        383|   N|                Y|\n",
            "|R33JJQWAUYBKD3|          5|          270|        280|   N|                Y|\n",
            "|R31HQD6YXSQV1W|          3|           40|         48|   N|                Y|\n",
            "|R33LQSF958O6K8|          5|           39|         41|   N|                Y|\n",
            "|R3OIDSQJ84W7J1|          5|           21|         24|   N|                N|\n",
            "| RODE8K12S7148|          5|           41|         45|   N|                Y|\n",
            "|R2QZFYFUKP22SP|          5|           33|         37|   N|                Y|\n",
            "| RFON10GAZKDL3|          3|           16|         20|   N|                Y|\n",
            "|R2UXKAUFMPE0PJ|          1|           29|         29|   N|                N|\n",
            "|R20YYYGIRVB7F1|          1|           32|         41|   N|                N|\n",
            "|R36065K853ACRA|          3|           28|         34|   N|                Y|\n",
            "| RBS6RYHXL83L8|          5|           49|         57|   N|                Y|\n",
            "|R2D5JAVXATJOQB|          4|           45|         48|   N|                Y|\n",
            "|R1SUS9Y51N3QO8|          1|           42|         46|   N|                N|\n",
            "|R3DKDS7674IU4Z|          5|           29|         31|   N|                N|\n",
            "|R3VER1GSR74AHB|          4|           38|         39|   N|                Y|\n",
            "| R4KKILPJRQ2J5|          1|           12|         20|   N|                Y|\n",
            "| RE1XO71W5US5S|          1|           28|         30|   N|                Y|\n",
            "+--------------+-----------+-------------+-----------+----+-----------------+\n",
            "only showing top 20 rows\n",
            "\n"
          ]
        }
      ]
    },
    {
      "cell_type": "code",
      "metadata": {
        "id": "AQC6ABiokcs6"
      },
      "source": [
        "# Checking if all rows with helpful_votes/total_votes are reviews that are not part of the vine program\n",
        "# We will check this by comparing the total number of rows for vine_helpful_votes and vine_unpaid_total\n",
        "\n",
        "vine_helpful_votes_total = vine_helpful_votes.count()\n",
        "vine_unpaid_total = vine_unpaid.count()\n"
      ],
      "execution_count": 20,
      "outputs": []
    },
    {
      "cell_type": "code",
      "metadata": {
        "colab": {
          "base_uri": "https://localhost:8080/"
        },
        "id": "zxvlFyOdkc5-",
        "outputId": "5bbbe2d3-7f3e-4861-f239-8a7cdf139e7e"
      },
      "source": [
        "# Print the total number of reviews\n",
        "\n",
        "print(f\"The number of reviews (helpful votes that make up 50% or greater of the total votes) : {vine_helpful_votes_total}\")\n",
        "print(f\"The total number reviews from non-Vine customers : {vine_unpaid_total}\")\n"
      ],
      "execution_count": 21,
      "outputs": [
        {
          "output_type": "stream",
          "name": "stdout",
          "text": [
            "The number of reviews (helpful votes that make up 50% or greater of the total votes) : 25557\n",
            "The total number reviews from non-Vine customers : 25094\n"
          ]
        }
      ]
    },
    {
      "cell_type": "code",
      "metadata": {
        "colab": {
          "base_uri": "https://localhost:8080/"
        },
        "id": "Xb-jQvjXkc-Z",
        "outputId": "0c3bee3c-be05-463d-d40a-741001c18d66"
      },
      "source": [
        "vine_helpful_votes.show()\n"
      ],
      "execution_count": 22,
      "outputs": [
        {
          "output_type": "stream",
          "name": "stdout",
          "text": [
            "+--------------+-----------+-------------+-----------+----+-----------------+\n",
            "|     review_id|star_rating|helpful_votes|total_votes|vine|verified_purchase|\n",
            "+--------------+-----------+-------------+-----------+----+-----------------+\n",
            "| ROI00QN8IS49I|          5|           83|         91|   N|                N|\n",
            "|R13C5INE1RTZP6|          2|           26|         26|   N|                Y|\n",
            "| RXVMMXCL67MZN|          4|          378|        383|   N|                Y|\n",
            "|R33JJQWAUYBKD3|          5|          270|        280|   N|                Y|\n",
            "|R3N0XV9267NOXV|          5|           41|         47|   Y|                N|\n",
            "|R31HQD6YXSQV1W|          3|           40|         48|   N|                Y|\n",
            "|R33LQSF958O6K8|          5|           39|         41|   N|                Y|\n",
            "|R3OIDSQJ84W7J1|          5|           21|         24|   N|                N|\n",
            "| RODE8K12S7148|          5|           41|         45|   N|                Y|\n",
            "|R2QZFYFUKP22SP|          5|           33|         37|   N|                Y|\n",
            "| RFON10GAZKDL3|          3|           16|         20|   N|                Y|\n",
            "|R2UXKAUFMPE0PJ|          1|           29|         29|   N|                N|\n",
            "|R20YYYGIRVB7F1|          1|           32|         41|   N|                N|\n",
            "|R36065K853ACRA|          3|           28|         34|   N|                Y|\n",
            "| RBS6RYHXL83L8|          5|           49|         57|   N|                Y|\n",
            "|R2D5JAVXATJOQB|          4|           45|         48|   N|                Y|\n",
            "|R1SUS9Y51N3QO8|          1|           42|         46|   N|                N|\n",
            "|R3DKDS7674IU4Z|          5|           29|         31|   N|                N|\n",
            "|R3VER1GSR74AHB|          4|           38|         39|   N|                Y|\n",
            "| R4KKILPJRQ2J5|          1|           12|         20|   N|                Y|\n",
            "+--------------+-----------+-------------+-----------+----+-----------------+\n",
            "only showing top 20 rows\n",
            "\n"
          ]
        }
      ]
    },
    {
      "cell_type": "code",
      "metadata": {
        "id": "fsq1S51rlU1D"
      },
      "source": [
        "# Filter the DataFrame or table created above to create a new DataFrame or table\n",
        "# that retrieves all the rows where a review was written as part of the Vine program (paid), vine == 'Y'.\n",
        "\n",
        "vine_paid = vine_helpful_votes.filter(vine_helpful_votes[\"vine\"] == 'Y')\n"
      ],
      "execution_count": 23,
      "outputs": []
    },
    {
      "cell_type": "code",
      "metadata": {
        "colab": {
          "base_uri": "https://localhost:8080/"
        },
        "id": "1AkU19tClU73",
        "outputId": "88eea3dd-e38a-4fcf-c33b-d3349c1629b5"
      },
      "source": [
        "vine_paid.show()\n"
      ],
      "execution_count": 24,
      "outputs": [
        {
          "output_type": "stream",
          "name": "stdout",
          "text": [
            "+--------------+-----------+-------------+-----------+----+-----------------+\n",
            "|     review_id|star_rating|helpful_votes|total_votes|vine|verified_purchase|\n",
            "+--------------+-----------+-------------+-----------+----+-----------------+\n",
            "|R3N0XV9267NOXV|          5|           41|         47|   Y|                N|\n",
            "| RSA6JQ346JZHZ|          5|           55|         64|   Y|                Y|\n",
            "|R1FXF4HRMCLG4C|          5|           69|         84|   Y|                N|\n",
            "| RCTBWC3II42MG|          4|          113|        117|   Y|                N|\n",
            "| RTMQM2CQ1XIZ0|          5|           21|         25|   Y|                N|\n",
            "|R2CBJLCKQ612KU|          4|           27|         35|   Y|                N|\n",
            "|R322QDGO4AV2B5|          5|           55|         65|   Y|                N|\n",
            "| R2S7CXRDGQ6EE|          4|           36|         39|   Y|                N|\n",
            "|R3ECMXK0SGR1VV|          5|           59|         64|   Y|                N|\n",
            "|R3D55CPJ6J6Z78|          4|           15|         20|   Y|                N|\n",
            "|R1Y9OYIUCP3WD2|          4|           20|         20|   Y|                N|\n",
            "| RT8AV0IB2PGHH|          4|          108|        132|   Y|                N|\n",
            "|R2RLHJRJD9B0NX|          3|           44|         47|   Y|                N|\n",
            "| RAPD7IX0LPZ10|          4|           36|         37|   Y|                N|\n",
            "|R37QPCBNR07PPR|          1|           22|         27|   Y|                N|\n",
            "|R3BRFPK8N59XPY|          5|          364|        395|   Y|                N|\n",
            "|R1WE59I775L7L9|          4|           31|         33|   Y|                N|\n",
            "| RO8IGQJV1PKCJ|          5|           78|         84|   Y|                N|\n",
            "| RWZDJT9MQP6A4|          5|           86|         97|   Y|                N|\n",
            "|R2VDXEVKFSJU36|          5|           20|         22|   Y|                N|\n",
            "+--------------+-----------+-------------+-----------+----+-----------------+\n",
            "only showing top 20 rows\n",
            "\n"
          ]
        }
      ]
    },
    {
      "cell_type": "code",
      "metadata": {
        "id": "cILfgthalVAx"
      },
      "source": [
        "# Filter the DataFrame or table created above to create a new DataFrame or table\n",
        "# that retrieves all the rows where a review was NOT written as part of the Vine program (paid), vine == 'Y'.\n",
        "\n",
        "vine_unpaid = vine_helpful_votes.filter(vine_helpful_votes[\"vine\"] == 'N')\n"
      ],
      "execution_count": 25,
      "outputs": []
    },
    {
      "cell_type": "code",
      "metadata": {
        "colab": {
          "base_uri": "https://localhost:8080/"
        },
        "id": "o2i_Iu_LlVFT",
        "outputId": "9dd7f3f1-83f5-4283-c180-652239c43a11"
      },
      "source": [
        "vine_unpaid.show()\n"
      ],
      "execution_count": 26,
      "outputs": [
        {
          "output_type": "stream",
          "name": "stdout",
          "text": [
            "+--------------+-----------+-------------+-----------+----+-----------------+\n",
            "|     review_id|star_rating|helpful_votes|total_votes|vine|verified_purchase|\n",
            "+--------------+-----------+-------------+-----------+----+-----------------+\n",
            "| ROI00QN8IS49I|          5|           83|         91|   N|                N|\n",
            "|R13C5INE1RTZP6|          2|           26|         26|   N|                Y|\n",
            "| RXVMMXCL67MZN|          4|          378|        383|   N|                Y|\n",
            "|R33JJQWAUYBKD3|          5|          270|        280|   N|                Y|\n",
            "|R31HQD6YXSQV1W|          3|           40|         48|   N|                Y|\n",
            "|R33LQSF958O6K8|          5|           39|         41|   N|                Y|\n",
            "|R3OIDSQJ84W7J1|          5|           21|         24|   N|                N|\n",
            "| RODE8K12S7148|          5|           41|         45|   N|                Y|\n",
            "|R2QZFYFUKP22SP|          5|           33|         37|   N|                Y|\n",
            "| RFON10GAZKDL3|          3|           16|         20|   N|                Y|\n",
            "|R2UXKAUFMPE0PJ|          1|           29|         29|   N|                N|\n",
            "|R20YYYGIRVB7F1|          1|           32|         41|   N|                N|\n",
            "|R36065K853ACRA|          3|           28|         34|   N|                Y|\n",
            "| RBS6RYHXL83L8|          5|           49|         57|   N|                Y|\n",
            "|R2D5JAVXATJOQB|          4|           45|         48|   N|                Y|\n",
            "|R1SUS9Y51N3QO8|          1|           42|         46|   N|                N|\n",
            "|R3DKDS7674IU4Z|          5|           29|         31|   N|                N|\n",
            "|R3VER1GSR74AHB|          4|           38|         39|   N|                Y|\n",
            "| R4KKILPJRQ2J5|          1|           12|         20|   N|                Y|\n",
            "| RE1XO71W5US5S|          1|           28|         30|   N|                Y|\n",
            "+--------------+-----------+-------------+-----------+----+-----------------+\n",
            "only showing top 20 rows\n",
            "\n"
          ]
        }
      ]
    },
    {
      "cell_type": "code",
      "metadata": {
        "id": "TwI24uTjlvZT"
      },
      "source": [
        "# Checking if all rows with helpful_votes/total_votes are reviews that are not part of the vine program\n",
        "# We will check this by comparing the total number of rows for vine_helpful_votes and vine_unpaid_total\n",
        "\n",
        "vine_helpful_votes_total = vine_helpful_votes.count()\n",
        "vine_unpaid_total = vine_unpaid.count()\n"
      ],
      "execution_count": 27,
      "outputs": []
    },
    {
      "cell_type": "code",
      "metadata": {
        "colab": {
          "base_uri": "https://localhost:8080/"
        },
        "id": "Pu9z6lJHlvlJ",
        "outputId": "9bbc934a-616c-422e-a08d-98fccbc6669c"
      },
      "source": [
        "# Print the total number of reviews\n",
        "\n",
        "print(f\"The number of reviews (helpful votes that make up 50% or greater of the total votes) : {vine_helpful_votes_total}\")\n",
        "print(f\"The total number reviews from non-Vine customers : {vine_unpaid_total}\")\n"
      ],
      "execution_count": 28,
      "outputs": [
        {
          "output_type": "stream",
          "name": "stdout",
          "text": [
            "The number of reviews (helpful votes that make up 50% or greater of the total votes) : 25557\n",
            "The total number reviews from non-Vine customers : 25094\n"
          ]
        }
      ]
    },
    {
      "cell_type": "code",
      "metadata": {
        "id": "yGJnK5EZl6fI"
      },
      "source": [
        "# Calculate the total number of unpaid 5-star reviews\n",
        "vine_unpaid_five_star_total = vine_unpaid.filter(vine_unpaid[\"star_rating\"] == 5).count()\n"
      ],
      "execution_count": 29,
      "outputs": []
    },
    {
      "cell_type": "code",
      "metadata": {
        "colab": {
          "base_uri": "https://localhost:8080/"
        },
        "id": "29t1ANHil6t4",
        "outputId": "a925f6ab-e629-4d46-9b86-bd512ebb1abb"
      },
      "source": [
        "# Print the total number of 5-star reviews\n",
        "print(f\"The total number of 5-star reviews for unpaid customers : {vine_unpaid_five_star_total}\")\n"
      ],
      "execution_count": 30,
      "outputs": [
        {
          "output_type": "stream",
          "name": "stdout",
          "text": [
            "The total number of 5-star reviews for unpaid customers : 12033\n"
          ]
        }
      ]
    },
    {
      "cell_type": "code",
      "metadata": {
        "id": "9XQ0AF56lvpi"
      },
      "source": [
        "# Calculate the total percentage of non-Vine reviews\n",
        "vine_unpaid_five_star_percentage = vine_unpaid_five_star_total/vine_unpaid_total * 100\n"
      ],
      "execution_count": 31,
      "outputs": []
    },
    {
      "cell_type": "code",
      "metadata": {
        "colab": {
          "base_uri": "https://localhost:8080/"
        },
        "id": "YXEh5V5OkdCe",
        "outputId": "07f98473-2c70-4648-9070-c17bc86cf20f"
      },
      "source": [
        "# Print the percentage of non-Vine reviews\n",
        "print(f\"The percentage of non-Vine reviews that are 5-star : {round(vine_unpaid_five_star_percentage, 1)}\")\n"
      ],
      "execution_count": 32,
      "outputs": [
        {
          "output_type": "stream",
          "name": "stdout",
          "text": [
            "The percentage of non-Vine reviews that are 5-star : 48.0\n"
          ]
        }
      ]
    },
    {
      "cell_type": "code",
      "metadata": {
        "colab": {
          "base_uri": "https://localhost:8080/"
        },
        "id": "a9EOlJCCmR_v",
        "outputId": "7ac54d22-d9ec-4767-e408-12e723d05d0c"
      },
      "source": [
        "# Checking if there exist any rows with reviews from paid vine customers from the original dataframe\n",
        "df_paid = df.filter(df[\"vine\"] == \"Y\").show()\n"
      ],
      "execution_count": 33,
      "outputs": [
        {
          "output_type": "stream",
          "name": "stdout",
          "text": [
            "+-----------+-----------+--------------+----------+--------------+--------------------+----------------+-----------+-------------+-----------+----+-----------------+--------------------+--------------------+-----------+\n",
            "|marketplace|customer_id|     review_id|product_id|product_parent|       product_title|product_category|star_rating|helpful_votes|total_votes|vine|verified_purchase|     review_headline|         review_body|review_date|\n",
            "+-----------+-----------+--------------+----------+--------------+--------------------+----------------+-----------+-------------+-----------+----+-----------------+--------------------+--------------------+-----------+\n",
            "|         US|   37851138|R3U3XEQ4FW6H1D|B00WANGH70|     607159693|Skip Hop Explore ...|            Baby|          5|            0|          0|   Y|                N|   Great wind-up car|We already got ou...| 2015-08-31|\n",
            "|         US|   27600554|R17OAZM6GWLN2A|B00NFET6TE|     855563007|DAPENE&reg; Women...|            Baby|          4|            0|          0|   Y|                N|Many uses, one mo...|This is a muti us...| 2015-08-31|\n",
            "|         US|   36983626| RBHZFIFWXOGQO|B00WANGH70|     607159693|Skip Hop Explore ...|            Baby|          5|            0|          0|   Y|                N|     Cute little toy|This is a cute li...| 2015-08-31|\n",
            "|         US|   49988212|R1ZILNYIT2QJC7|B008OIYZY2|     515593289|American Baby Com...|            Baby|          4|            0|          0|   Y|                N|Inexpensive and good|I rather have a f...| 2015-08-31|\n",
            "|         US|   17675839| RWMWMJWCH8ZLL|B00CEH7EII|     174191754|American Baby Com...|            Baby|          3|            0|          0|   Y|                N|So cute, but qual...|Super cute, but I...| 2015-08-31|\n",
            "|         US|   49108764| RI09KVDTKE4WV|B00WSCXBJU|     270152252|Skip Hop Forget M...|            Baby|          4|            0|          0|   Y|                N|Solid cup but not...|We use this bottl...| 2015-08-31|\n",
            "|         US|   49905373|R2IY18FEN4LB7J|B00NFET6TE|     855563007|DAPENE&reg; Women...|            Baby|          5|            0|          0|   Y|                N|Versatile and ver...|Soothing lullaby ...| 2015-08-31|\n",
            "|         US|   28592482| R8PS863NSM7SN|B00DYOQLNO|     357525815|MAM Anti-Colic Bo...|            Baby|          5|            0|          0|   Y|                N|      Great bottles.|These are easy to...| 2015-08-31|\n",
            "|         US|   40585196| R440OGOMBD48E|B00PK3ERYW|     167319540|       4Moms Mamaroo|            Baby|          5|            0|          0|   Y|                N|  Amazing baby chair|I wish every baby...| 2015-08-31|\n",
            "|         US|   16520946| RUYM3RFNK681C|B00YJHNQBK|     497177045|American Baby Com...|            Baby|          3|            0|          0|   Y|                N|Just a so so baby...|This is your basi...| 2015-08-31|\n",
            "|         US|   28675033| RN7K9YA1AJPMW|B00YJHNPRK|     464842117|American Baby Com...|            Baby|          4|            0|          0|   Y|                N|Excellent blanket...|Our baby really s...| 2015-08-31|\n",
            "|         US|   49905373|R2QFN2GIPOYMKM|B00T8VQ4AW|     118651936|Fisher-Price Delu...|            Baby|          5|            0|          0|   Y|                N|Versatile and ver...|Soothing lullaby ...| 2015-08-31|\n",
            "|         US|   52860329|R1DQZOJNMI37KI|B00ZKTVI66|     155258416|Graco LiteRider C...|            Baby|          4|            1|          2|   Y|                N|Lite Rider it is;...|There is a lot to...| 2015-08-31|\n",
            "|         US|   21954496|R2UFHDFQJDR4SK|B00GTJ9NBS|     298204166|Little Tikes High...|            Baby|          5|            0|          0|   Y|                N|Great quality, wo...|I was thinking I ...| 2015-08-31|\n",
            "|         US|   21155796|R127UNM3KJINGP|B00WANG7XY|     147223358|Skip Hop Zoo Larg...|            Baby|          5|            0|          1|   Y|                N|So much cuter tha...|I love these type...| 2015-08-31|\n",
            "|         US|   21155796|R3N0XV9267NOXV|B00ZKTVI66|     155258416|Graco LiteRider C...|            Baby|          5|           41|         47|   Y|                N|No more disturbin...|This version of t...| 2015-08-31|\n",
            "|         US|   50820654|R2GTGOL5UM0TYI|B00NFETDR4|      72779138|Fisher-Price Calm...|            Baby|          4|            4|          4|   Y|                N|Very Stimulating ...|This Fisher-Price...| 2015-08-31|\n",
            "|         US|   38901787| RJWQE3MMHHA6R|B00DYOQLNO|     357525815|MAM Anti-Colic Bo...|            Baby|          4|            0|          0|   Y|                N|   Innovative Design|We already severa...| 2015-08-31|\n",
            "|         US|   11758331|R32CU1UCRVXKXS|B00PK3ERYW|     167319540|       4Moms Mamaroo|            Baby|          4|            0|          1|   Y|                N|   Good: works great|Good: works great...| 2015-08-30|\n",
            "|         US|   52307551| RB628A1C7506Y|B00YJHNUEI|     497177045|American Baby Com...|            Baby|          5|            0|          0|   Y|                N|Very nice blanket...|Very nice blanket...| 2015-08-30|\n",
            "+-----------+-----------+--------------+----------+--------------+--------------------+----------------+-----------+-------------+-----------+----+-----------------+--------------------+--------------------+-----------+\n",
            "only showing top 20 rows\n",
            "\n"
          ]
        }
      ]
    },
    {
      "cell_type": "code",
      "metadata": {
        "id": "D9cumNRdmSIX"
      },
      "source": [
        ""
      ],
      "execution_count": null,
      "outputs": []
    },
    {
      "cell_type": "code",
      "metadata": {
        "id": "OtL0xsQTmSM6"
      },
      "source": [
        ""
      ],
      "execution_count": null,
      "outputs": []
    },
    {
      "cell_type": "code",
      "metadata": {
        "id": "DykUXOaQmSRO"
      },
      "source": [
        ""
      ],
      "execution_count": null,
      "outputs": []
    },
    {
      "cell_type": "code",
      "metadata": {
        "id": "fo_OheT_kdHt"
      },
      "source": [
        ""
      ],
      "execution_count": null,
      "outputs": []
    }
  ]
}